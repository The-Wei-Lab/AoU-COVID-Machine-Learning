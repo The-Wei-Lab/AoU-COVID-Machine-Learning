{
 "cells": [
  {
   "cell_type": "code",
   "execution_count": null,
   "metadata": {},
   "outputs": [],
   "source": [
    "#Import Statements Here\n",
    "import numpy as np\n",
    "import pandas as pd\n",
    "from statistics import mean\n",
    "import seaborn as sns\n",
    "import matplotlib.pyplot as plt\n",
    "import sklearn as skl\n",
    "from sklearn import metrics\n",
    "from scipy import stats\n",
    "rng = np.random.default_rng()\n",
    "from sklearn import linear_model\n",
    "from sklearn import metrics\n",
    "import os\n",
    "import subprocess"
   ]
  },
  {
   "cell_type": "code",
   "execution_count": null,
   "metadata": {},
   "outputs": [],
   "source": [
    "def getFromBucket(name_of_file_in_bucket):\n",
    "    # get the bucket name\n",
    "    my_bucket = os.getenv('WORKSPACE_BUCKET')\n",
    "\n",
    "    # copy csv file from the bucket to the current working space\n",
    "    os.system(f\"gsutil cp '{my_bucket}/data/{name_of_file_in_bucket}' .\")\n",
    "\n",
    "    print(f'[INFO] {name_of_file_in_bucket} is successfully downloaded into your working space')\n",
    "    # save dataframe in a csv file in the same workspace as the notebook\n",
    "    my_dataframe = pd.read_csv(name_of_file_in_bucket)\n",
    "    return my_dataframe\n"
   ]
  },
  {
   "cell_type": "code",
   "execution_count": null,
   "metadata": {},
   "outputs": [],
   "source": [
    "def storeInBucket(df, name_of_file_loc):\n",
    "    # get the bucket name\n",
    "    \n",
    "    # This snippet assumes you run setup first\n",
    "\n",
    "    # This code saves your dataframe into a csv file in a \"data\" folder in Google Bucket\n",
    "\n",
    "    # Replace df with THE NAME OF YOUR DATAFRAME\n",
    "    my_dataframe = df   \n",
    "\n",
    "    # Replace 'test.csv' with THE NAME of the file you're going to store in the bucket (don't delete the quotation marks)\n",
    "    destination_filename = name_of_file_loc\n",
    "\n",
    "    ########################################################################\n",
    "    ##\n",
    "    ################# DON'T CHANGE FROM HERE ###############################\n",
    "    ##\n",
    "    ########################################################################\n",
    "\n",
    "    # save dataframe in a csv file in the same workspace as the notebook\n",
    "    my_dataframe.to_csv(destination_filename, index=False)\n",
    "\n",
    "    # get the bucket name\n",
    "    my_bucket = os.getenv('WORKSPACE_BUCKET')\n",
    "\n",
    "    # copy csv file to the bucket\n",
    "    args = [\"gsutil\", \"cp\", f\"./{destination_filename}\", f\"{my_bucket}/data/\"]\n",
    "    output = subprocess.run(args, capture_output=True)\n",
    "\n",
    "    # print output from gsutil\n",
    "    output.stderr\n",
    "    "
   ]
  },
  {
   "cell_type": "code",
   "execution_count": null,
   "metadata": {},
   "outputs": [],
   "source": [
    "AvgHeartRateDf = getFromBucket(\"avg_heart_rate_median.csv\")\n",
    "MedHeartRateDf = getFromBucket(\"heart_rate_min_max_median.csv\")\n",
    "SleepSummaryDf = getFromBucket(\"sleep_summary_stat_df.csv\")\n",
    "MedianStepsDf = getFromBucket(\"steps_median.csv\")\n",
    "WearTimeDf = getFromBucket(\"fitbit_avg_weartime.csv\")"
   ]
  },
  {
   "cell_type": "code",
   "execution_count": null,
   "metadata": {},
   "outputs": [],
   "source": [
    "#Make a function to get all the covid-negative data from the bucket as well. We are going to compare the two"
   ]
  },
  {
   "cell_type": "code",
   "execution_count": null,
   "metadata": {},
   "outputs": [],
   "source": [
    "NegMedianStepsDf= getFromBucket('negative_cohort_steps_median.csv')\n",
    "NegSleepSummaryDf= getFromBucket('negative_cohort_sleep_summary_stat_df.csv')\n",
    "NegMedHeartRateDf = getFromBucket('negative_cohort_heart_rate_min_max_median.csv')\n",
    "NegWearTimeDf= getFromBucket('negative_cohort_fitbit_avg_weartime.csv')\n",
    "NegAvgHeartRateDf= getFromBucket('negative_cohort_avg_heart_rate_median.csv')"
   ]
  },
  {
   "cell_type": "code",
   "execution_count": null,
   "metadata": {},
   "outputs": [],
   "source": [
    "#Make these below an iterable function, and use that function to include positive and negative data sets\n",
    "\n",
    "def variableClean(df, beforeVar, afterVar, beforeVarMax, afterVarMax):\n",
    "    \n",
    "    returnDf = df.sort_values('person_id', ignore_index=True)\n",
    "    returnDf  = returnDf[returnDf[beforeVar]>0]\n",
    "    returnDf  = returnDf[returnDf[afterVar]>0]\n",
    "    \n",
    "    #remove outliers\n",
    "    returnDf  = returnDf[returnDf[beforeVar]<beforeVarMax]\n",
    "    returnDf  = returnDf[returnDf[afterVar]<afterVarMax]\n",
    "    \n",
    "    return returnDf"
   ]
  },
  {
   "cell_type": "code",
   "execution_count": null,
   "metadata": {},
   "outputs": [],
   "source": [
    "AvgHeartRateDf= variableClean(AvgHeartRateDf, 'before_covid_avg_heart_rate', 'after_covid_avg_heart_rate', 100, 100)\n",
    "MedHeartRateDf= variableClean(MedHeartRateDf, 'before_covid_min_heart_rate', 'after_covid_min_heart_rate', 125, 140)\n",
    "SleepSummaryDf = variableClean(SleepSummaryDf, 'before_covid_median_minutes_asleep', 'after_covid_median_minutes_asleep', 600, 1000)\n",
    "MedianStepsDf= variableClean(MedianStepsDf, 'before_covid_median_steps', 'after_covid_median_steps', 100000, 100000)"
   ]
  },
  {
   "cell_type": "code",
   "execution_count": null,
   "metadata": {},
   "outputs": [],
   "source": [
    "#clean the Negative Variables\n",
    "NegAvgHeartRateDf= variableClean(NegAvgHeartRateDf, 'before_neg_covid_avg_heart_rate', 'after_neg_covid_avg_heart_rate', 100, 100)\n",
    "NegMedHeartRateDf= variableClean(NegMedHeartRateDf, 'before_neg_covid_min_heart_rate', 'after_neg_covid_min_heart_rate', 125, 140)\n",
    "NegSleepSummaryDf = variableClean(NegSleepSummaryDf, 'before_neg_covid_median_minutes_asleep', 'after_neg_covid_median_minutes_asleep', 600, 1000)\n",
    "NegMedianStepsDf= variableClean(NegMedianStepsDf, 'before_neg_covid_test_median_steps', 'after_negative_covid_test_median_steps', 100000, 100000)\n",
    "\n",
    "NegMedianStepsDf = NegMedianStepsDf.rename(columns = {'person_id': 'person_id', 'neg_covid_dt': 'neg_covid_dt', \n",
    "                                                      'before_neg_covid_test_median_steps': 'before_neg_covid_median_steps',\n",
    "                                                      'after_negative_covid_test_median_steps': 'after_neg_covid_median_steps'})"
   ]
  },
  {
   "cell_type": "code",
   "execution_count": null,
   "metadata": {},
   "outputs": [],
   "source": [
    "WearTimeDf=WearTimeDf.sort_values('person_id',ignore_index=True)\n",
    "len(WearTimeDf[WearTimeDf['average_weartime']<8])\n",
    "#WearTimeDf"
   ]
  },
  {
   "cell_type": "code",
   "execution_count": null,
   "metadata": {},
   "outputs": [],
   "source": [
    "WearTimeDf['average_weartime'].plot.hist(grid=True, bins=20, rwidth=0.9,\n",
    "                   color='#607c8e')\n",
    "plt.title('Average Wear time per day')\n",
    "plt.ylabel('Counts')\n",
    "plt.xlabel('Average Hours Worn Per Day')\n",
    "plt.grid(axis='y', alpha=0.75)"
   ]
  },
  {
   "cell_type": "code",
   "execution_count": null,
   "metadata": {},
   "outputs": [],
   "source": [
    "FitBitList = [AvgHeartRateDf, MedHeartRateDf, SleepSummaryDf, MedianStepsDf]\n",
    "for a in FitBitList:\n",
    "    print(len(a))"
   ]
  },
  {
   "cell_type": "code",
   "execution_count": null,
   "metadata": {},
   "outputs": [],
   "source": [
    "#Add in Sleep Quality Data\n",
    "#SleepLevelDf = pd.read_csv('exploring_sleep_level_per_minute_indicator.csv')\n",
    "#MinutesDeepSleepDf = pd.read_csv('exploring_deep_sleep_mins.csv')\n",
    "#SleepLevelDf \n",
    "#MinutesDeepSleepDf"
   ]
  },
  {
   "cell_type": "markdown",
   "metadata": {},
   "source": [
    "## Moble Device Visualization"
   ]
  },
  {
   "cell_type": "code",
   "execution_count": null,
   "metadata": {},
   "outputs": [],
   "source": [
    "#Make a function to give us a box plot using before and after variables\n",
    "def makeBoxPlots(varString, df, neg=False):\n",
    "    \n",
    "    beforeVar = 'before_covid_' + varString\n",
    "    afterVar = 'after_covid_' + varString\n",
    "    \n",
    "    if neg:\n",
    "        beforeVar = 'before_neg_covid_' + varString\n",
    "        afterVar = 'after_neg_covid_' + varString\n",
    "        \n",
    "    before = df[beforeVar]\n",
    "    after = df[afterVar]\n",
    "\n",
    "    fig, ax = plt.subplots()\n",
    "    ax.boxplot([before,after])\n",
    "\n",
    "    ax.set_title(varString +' Before and After Covid')\n",
    "    ax.set_xlabel('')\n",
    "    ax.set_ylabel(varString)\n",
    "    xticklabels=['Before Covid' , 'After Covid']\n",
    "    ax.set_xticklabels(xticklabels)\n",
    "\n",
    "    ax.yaxis.grid(True)\n",
    "\n",
    "    plt.show()\n",
    "\n",
    "    "
   ]
  },
  {
   "cell_type": "code",
   "execution_count": null,
   "metadata": {},
   "outputs": [],
   "source": [
    "#Make a function to give us a histogram in the change of those before and after variables\n",
    "def makeDifferenceHist(varString, df,neg=False):\n",
    "    \n",
    "    beforeVar = 'before_covid_' + varString\n",
    "    afterVar = 'after_covid_' + varString\n",
    "    \n",
    "    if neg:\n",
    "        beforeVar = 'before_neg_covid_' + varString\n",
    "        afterVar = 'after_neg_covid_' + varString\n",
    "        \n",
    "    before = df[beforeVar]\n",
    "    after = df[afterVar]\n",
    "    \n",
    "    diff = after - before\n",
    "    print(mean(diff))\n",
    "\n",
    "    diff.plot.hist(grid=True, bins=20, rwidth=0.9,\n",
    "                   color='#607c8e')\n",
    "    plt.title('Change in '+ varString+ ' After Covid')\n",
    "    plt.ylabel('Counts')\n",
    "    plt.xlabel('Change in '+ varString)\n",
    "    plt.grid(axis='y', alpha=0.75)\n",
    "    \n",
    "    print(stats.ttest_rel(before, after))\n",
    "\n",
    "    "
   ]
  },
  {
   "cell_type": "code",
   "execution_count": null,
   "metadata": {},
   "outputs": [],
   "source": [
    "makeBoxPlots('avg_heart_rate', AvgHeartRateDf)"
   ]
  },
  {
   "cell_type": "code",
   "execution_count": null,
   "metadata": {},
   "outputs": [],
   "source": [
    "makeDifferenceHist('avg_heart_rate', AvgHeartRateDf)"
   ]
  },
  {
   "cell_type": "code",
   "execution_count": null,
   "metadata": {},
   "outputs": [],
   "source": [
    "makeBoxPlots('min_heart_rate', MedHeartRateDf)"
   ]
  },
  {
   "cell_type": "code",
   "execution_count": null,
   "metadata": {},
   "outputs": [],
   "source": [
    "makeDifferenceHist('min_heart_rate', MedHeartRateDf)"
   ]
  },
  {
   "cell_type": "code",
   "execution_count": null,
   "metadata": {},
   "outputs": [],
   "source": [
    "makeBoxPlots('max_heart_rate', MedHeartRateDf)"
   ]
  },
  {
   "cell_type": "code",
   "execution_count": null,
   "metadata": {},
   "outputs": [],
   "source": [
    "makeDifferenceHist('max_heart_rate', MedHeartRateDf)"
   ]
  },
  {
   "cell_type": "code",
   "execution_count": null,
   "metadata": {},
   "outputs": [],
   "source": [
    "makeBoxPlots('median_minutes_asleep', SleepSummaryDf)"
   ]
  },
  {
   "cell_type": "code",
   "execution_count": null,
   "metadata": {},
   "outputs": [],
   "source": [
    "makeDifferenceHist('median_minutes_asleep', SleepSummaryDf)"
   ]
  },
  {
   "cell_type": "code",
   "execution_count": null,
   "metadata": {},
   "outputs": [],
   "source": [
    "makeBoxPlots('median_steps', MedianStepsDf)"
   ]
  },
  {
   "cell_type": "code",
   "execution_count": null,
   "metadata": {},
   "outputs": [],
   "source": [
    "makeDifferenceHist('median_steps', MedianStepsDf)"
   ]
  },
  {
   "cell_type": "code",
   "execution_count": null,
   "metadata": {},
   "outputs": [],
   "source": [
    "Dflist = [AvgHeartRateDf, MedHeartRateDf, SleepSummaryDf, MedianStepsDf]\n"
   ]
  },
  {
   "cell_type": "markdown",
   "metadata": {},
   "source": [
    "## Compare Negative cases as well"
   ]
  },
  {
   "cell_type": "code",
   "execution_count": null,
   "metadata": {},
   "outputs": [],
   "source": [
    "#NegMedianStepsDf"
   ]
  },
  {
   "cell_type": "code",
   "execution_count": null,
   "metadata": {},
   "outputs": [],
   "source": [
    "makeBoxPlots('median_steps', NegMedianStepsDf, neg=True)"
   ]
  },
  {
   "cell_type": "code",
   "execution_count": null,
   "metadata": {},
   "outputs": [],
   "source": [
    "makeDifferenceHist('median_steps', NegMedianStepsDf, neg=True)"
   ]
  },
  {
   "cell_type": "code",
   "execution_count": null,
   "metadata": {},
   "outputs": [],
   "source": [
    "def statTestPosNegDifference(posDf, negDf, posVar, negVar):\n",
    "    \n",
    "    posBeforeStr = 'before_covid_' + posVar\n",
    "    posAfterStr = 'after_covid_' +posVar\n",
    "    posDiff = posDf[posAfterStr] - posDf[posBeforeStr]\n",
    "    \n",
    "    negBeforeStr = 'before_neg_covid_' + negVar\n",
    "    negAfterStr = 'after_neg_covid_' +negVar\n",
    "    negDiff = negDf[negAfterStr] - negDf[negBeforeStr]\n",
    "    \n",
    "    covidDiff = posDiff - negDiff\n",
    "    \n",
    "    a = stats.ttest_ind(negDiff, posDiff)\n",
    "    \n",
    "    return a"
   ]
  },
  {
   "cell_type": "code",
   "execution_count": null,
   "metadata": {},
   "outputs": [],
   "source": [
    "statTestPosNegDifference(MedianStepsDf, NegMedianStepsDf, 'median_steps', 'median_steps')"
   ]
  },
  {
   "cell_type": "code",
   "execution_count": null,
   "metadata": {},
   "outputs": [],
   "source": [
    "statTestPosNegDifference(SleepSummaryDf, NegSleepSummaryDf, 'median_minutes_asleep', 'median_minutes_asleep')"
   ]
  },
  {
   "cell_type": "code",
   "execution_count": null,
   "metadata": {},
   "outputs": [],
   "source": [
    "statTestPosNegDifference(MedHeartRateDf, NegMedHeartRateDf, 'max_heart_rate', 'max_heart_rate')"
   ]
  },
  {
   "cell_type": "code",
   "execution_count": null,
   "metadata": {},
   "outputs": [],
   "source": [
    "statTestPosNegDifference(MedHeartRateDf, NegMedHeartRateDf, 'min_heart_rate', 'min_heart_rate')"
   ]
  },
  {
   "cell_type": "code",
   "execution_count": null,
   "metadata": {},
   "outputs": [],
   "source": [
    "statTestPosNegDifference(AvgHeartRateDf, NegAvgHeartRateDf, 'avg_heart_rate', 'avg_heart_rate')"
   ]
  },
  {
   "cell_type": "markdown",
   "metadata": {},
   "source": [
    "## Export data for machine learning"
   ]
  },
  {
   "cell_type": "code",
   "execution_count": null,
   "metadata": {},
   "outputs": [],
   "source": [
    "#find counts for who has all of the data combined, as well as who has each data type\n",
    "\n",
    "#Define a function to merge all dataframes. Use inner or outer as arguements to the merge function\n",
    "\n",
    "def joinAllDf(DataFrameList, mergeType, covidValue):\n",
    "    #define merge based on CovidValue\n",
    "    if covidValue =='pos':\n",
    "        joinCol = 'min_covid_dt'\n",
    "    if covidValue == 'neg':\n",
    "        joinCol = 'neg_covid_dt'\n",
    "    \n",
    "    mergeDf = DataFrameList[0]\n",
    "    \n",
    "    for df in DataFrameList:\n",
    "        mergeDf = pd.merge(left = mergeDf, right=df, how=mergeType, left_on=['person_id', joinCol] , right_on = ['person_id', joinCol])\n",
    "    \n",
    "    return mergeDf"
   ]
  },
  {
   "cell_type": "code",
   "execution_count": null,
   "metadata": {},
   "outputs": [],
   "source": [
    "innerJoinPosDf = joinAllDf([AvgHeartRateDf, MedHeartRateDf, SleepSummaryDf, MedianStepsDf], 'inner', 'pos')\n",
    "#innerJoinDf"
   ]
  },
  {
   "cell_type": "code",
   "execution_count": null,
   "metadata": {},
   "outputs": [],
   "source": [
    "outerJoinPosDf = joinAllDf([AvgHeartRateDf, MedHeartRateDf, SleepSummaryDf, MedianStepsDf], 'outer', 'pos')\n",
    "#outerJoinDf"
   ]
  },
  {
   "cell_type": "code",
   "execution_count": null,
   "metadata": {},
   "outputs": [],
   "source": [
    "innerJoinNegDf = joinAllDf([NegAvgHeartRateDf, NegMedHeartRateDf, NegSleepSummaryDf, NegMedianStepsDf], 'inner', 'neg')\n",
    "#innerJoinNegDf"
   ]
  },
  {
   "cell_type": "code",
   "execution_count": null,
   "metadata": {},
   "outputs": [],
   "source": [
    "outerJoinNegDf = joinAllDf([NegAvgHeartRateDf, NegMedHeartRateDf, NegSleepSummaryDf, NegMedianStepsDf], 'outer', 'neg')\n",
    "#outerJoinNegDf"
   ]
  },
  {
   "cell_type": "code",
   "execution_count": null,
   "metadata": {},
   "outputs": [],
   "source": [
    "#bring the outer join Dfs together, and then do the same to the inner join\n",
    "\n",
    "def combinePosAndNeg(NegDf, PosDf):\n",
    "    \n",
    "    NegDf['covid_test'] = NegDf.apply(lambda row: 0, axis=1)\n",
    "    PosDf['covid_test'] = NegDf.apply(lambda row: 1, axis=1)\n",
    "    \n",
    "    #rename NegDf columns to match PosDf columns\n",
    "    NegDf.columns = list(PosDf.columns)\n",
    "    \n",
    "    #concatinate the two so that they are in the sane space now that they have the same columns\n",
    "    returnDf = pd.concat([PosDf, NegDf], axis=0)\n",
    "    return returnDf\n",
    "    "
   ]
  },
  {
   "cell_type": "code",
   "execution_count": null,
   "metadata": {},
   "outputs": [],
   "source": [
    "OuterJoinMarch16 = combinePosAndNeg(outerJoinNegDf, outerJoinPosDf)\n",
    "#storeInBucket(OuterJoinMarch16 , 'OuterJoinMarch16MobileDevice.csv')\n",
    "OuterJoinMarch16"
   ]
  },
  {
   "cell_type": "code",
   "execution_count": null,
   "metadata": {},
   "outputs": [],
   "source": [
    "InnerJoinMarch16 = combinePosAndNeg(innerJoinNegDf, innerJoinPosDf)\n",
    "#storeInBucket(InnerJoinMarch16 , 'InnerJoinMarch16MobileDevice.csv')\n",
    "InnerJoinMarch16 "
   ]
  },
  {
   "cell_type": "code",
   "execution_count": null,
   "metadata": {},
   "outputs": [],
   "source": []
  }
 ],
 "metadata": {
  "kernelspec": {
   "display_name": "Python 3 (ipykernel)",
   "language": "python",
   "name": "python3"
  },
  "language_info": {
   "codemirror_mode": {
    "name": "ipython",
    "version": 3
   },
   "file_extension": ".py",
   "mimetype": "text/x-python",
   "name": "python",
   "nbconvert_exporter": "python",
   "pygments_lexer": "ipython3",
   "version": "3.9.12"
  },
  "toc": {
   "base_numbering": 1,
   "nav_menu": {},
   "number_sections": true,
   "sideBar": true,
   "skip_h1_title": false,
   "title_cell": "Table of Contents",
   "title_sidebar": "Contents",
   "toc_cell": false,
   "toc_position": {},
   "toc_section_display": true,
   "toc_window_display": false
  }
 },
 "nbformat": 4,
 "nbformat_minor": 2
}
