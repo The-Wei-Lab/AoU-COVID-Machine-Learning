{
 "cells": [
  {
   "cell_type": "code",
   "execution_count": null,
   "metadata": {},
   "outputs": [],
   "source": [
    "from datetime import datetime\n",
    "start = datetime.now()\n",
    "\n",
    "import os\n",
    "bucket = os.getenv(\"WORKSPACE_BUCKET\")\n",
    "bucket\n",
    "\n",
    "import hail as hl\n",
    "hl.init(default_reference='GRCh38', idempotent=True)\n",
    "\n",
    "mt_wgs_path = os.getenv(\"WGS_HAIL_STORAGE_PATH\")\n",
    "mt_wgs_path"
   ]
  },
  {
   "cell_type": "code",
   "execution_count": null,
   "metadata": {},
   "outputs": [],
   "source": [
    "mt = hl.read_matrix_table(mt_wgs_path)"
   ]
  },
  {
   "cell_type": "code",
   "execution_count": null,
   "metadata": {},
   "outputs": [],
   "source": [
    "import os\n",
    "import pandas as pd\n",
    "from datetime import datetime"
   ]
  },
  {
   "cell_type": "code",
   "execution_count": null,
   "metadata": {},
   "outputs": [],
   "source": [
    "start = datetime.now()"
   ]
  },
  {
   "cell_type": "code",
   "execution_count": null,
   "metadata": {},
   "outputs": [],
   "source": [
    "bucket = os.getenv(\"WORKSPACE_BUCKET\")\n",
    "bucket"
   ]
  },
  {
   "cell_type": "code",
   "execution_count": null,
   "metadata": {},
   "outputs": [],
   "source": [
    "dataset = os.getenv(\"WORKSPACE_CDR\")\n",
    "dataset"
   ]
  },
  {
   "cell_type": "code",
   "execution_count": null,
   "metadata": {},
   "outputs": [],
   "source": [
    "# This snippet assumes you run setup first\n",
    "\n",
    "# This code copies file in your Google Bucket and loads it into a dataframe\n",
    "\n",
    "# Replace 'test.csv' with THE NAME of the file you're going to download from the bucket (don't delete the quotation marks)\n",
    "name_of_file_in_bucket = 'n3c_aou_cohort_ft.csv'\n",
    "\n",
    "########################################################################\n",
    "##\n",
    "################# DON'T CHANGE FROM HERE ###############################\n",
    "##\n",
    "########################################################################\n",
    "\n",
    "# get the bucket name\n",
    "my_bucket = os.getenv('WORKSPACE_BUCKET')\n",
    "\n",
    "# copy csv file from the bucket to the current working space\n",
    "os.system(f\"gsutil cp '{my_bucket}/data/{name_of_file_in_bucket}' .\")\n",
    "\n",
    "print(f'[INFO] {name_of_file_in_bucket} is successfully downloaded into your working space')\n",
    "# save dataframe in a csv file in the same workspace as the notebook\n",
    "cohort = pd.read_csv(name_of_file_in_bucket)\n",
    "cohort.head()\n"
   ]
  },
  {
   "cell_type": "code",
   "execution_count": null,
   "metadata": {},
   "outputs": [],
   "source": [
    "#cohort = pd.read_csv('n3c_aou_cohort.csv')"
   ]
  },
  {
   "cell_type": "code",
   "execution_count": null,
   "metadata": {},
   "outputs": [],
   "source": [
    "people = tuple(cohort['person_id'])"
   ]
  },
  {
   "cell_type": "code",
   "execution_count": null,
   "metadata": {},
   "outputs": [],
   "source": [
    "# WGS\n",
    "person_sql = f\"\"\"\n",
    "SELECT  person.person_id,\n",
    "        p_gender_concept.concept_name as gender,\n",
    "        p_ethnicity_concept.concept_name as ethnicity,\n",
    "        p_sex_at_birth_concept.concept_name as sex_at_birth \n",
    "    FROM\n",
    "        `{dataset}.person` person \n",
    "    LEFT JOIN\n",
    "        `{dataset}.concept` p_gender_concept \n",
    "            on person.gender_concept_id = p_gender_concept.CONCEPT_ID \n",
    "    LEFT JOIN\n",
    "        `{dataset}.concept` p_ethnicity_concept \n",
    "            on person.ethnicity_concept_id = p_ethnicity_concept.CONCEPT_ID \n",
    "    LEFT JOIN\n",
    "        `{dataset}.concept` p_sex_at_birth_concept \n",
    "            on person.sex_at_birth_concept_id = p_sex_at_birth_concept.CONCEPT_ID  \n",
    "    WHERE\n",
    "        person.PERSON_ID IN (\n",
    "            select\n",
    "                person_id  \n",
    "            from\n",
    "                `{dataset}.cb_search_person` cb_search_person  \n",
    "            where\n",
    "                cb_search_person.person_id in (\n",
    "                    select\n",
    "                        person_id \n",
    "                    from\n",
    "                        `{dataset}.cb_search_person` p \n",
    "                    where\n",
    "                        has_whole_genome_variant = 1 \n",
    "                ) \n",
    "            )\n",
    "            and person.PERSON_ID in {people}\"\"\"\n",
    "\n",
    "wgs_demog = pd.read_gbq(person_sql, dialect=\"standard\")\n",
    "\n",
    "wgs_demog.head(5)"
   ]
  },
  {
   "cell_type": "code",
   "execution_count": null,
   "metadata": {},
   "outputs": [],
   "source": [
    "demographics = pd.get_dummies(wgs_demog.set_index(['person_id'])).reset_index()\n",
    "demographics.head()"
   ]
  },
  {
   "cell_type": "code",
   "execution_count": null,
   "metadata": {},
   "outputs": [],
   "source": [
    "# save phenotypes locally\n",
    "phenotypes = (demographics[[\"person_id\", \"ethnicity_Hispanic or Latino\", \"sex_at_birth_Male\"]]\n",
    "              .rename(columns={'ethnicity_Hispanic or Latino': 'is_hispanic',\n",
    "                              'sex_at_birth_Male': 'is_male'})\n",
    "             )\n",
    "for col in ['is_hispanic', 'is_male']:\n",
    "    phenotypes[col] = phenotypes[col].astype(int)\n",
    "\n",
    "phenotypes[\"person_id\"] = phenotypes[\"person_id\"].astype(str)\n",
    "    \n",
    "phenotypes.to_csv('long_covid_phenotypes.tsv', index=False, sep='\\t')\n",
    "\n",
    "# save phenotypes to the bucket\n",
    "!gsutil cp 'long_covid_phenotypes.tsv' {bucket}/data/"
   ]
  },
  {
   "cell_type": "code",
   "execution_count": null,
   "metadata": {},
   "outputs": [],
   "source": [
    "phenotypes.head()"
   ]
  },
  {
   "cell_type": "code",
   "execution_count": null,
   "metadata": {},
   "outputs": [],
   "source": [
    "mt.count()"
   ]
  },
  {
   "cell_type": "code",
   "execution_count": null,
   "metadata": {},
   "outputs": [],
   "source": [
    "test_intervals = ['chr3:45859597-45859598', 'chr6:31153649-31153650', 'chr19:4719431-4719432', 'chr21:33252612-33252613', 'chr3:101705614-101705615', 'chr6:41534945-41534946', \n",
    "'chr1:155203736-155203737', 'chr3:45838989-45838990', 'chr6:31153455-31153456', 'chr6:41522644-41522645', 'chr9:133273813-133273814', 'chr10:79946568-79946569', 'chr11:1219991-1219992',\n",
    "'chr11:34507219-34507220', 'chr12:112936943-112936944', 'chr12:132564254-132564255', 'chr16:89196249-89196250', 'chr17:45707983-45707984', 'chr17:49863303-49863304', 'chr19:4719431-4719432', \n",
    "'chr19:10355447-10355448', 'chr19:50379362-50379363', 'chr21:33242905-33242906', 'chr1:155127096-155127097', 'chr3:45793925-45793926', 'chr3:101780431-101780432',                            \n",
    "'chr6:33076153-33076154', 'chr9:133273813-133273814', 'chr12:112914354-112914355', 'chr19:4719431-4719432', 'chr19:48867352-48867353',\n",
    "'chrX:15602217-15602218', 'chr6:41515652-41515653']\n",
    "#'chr23:15602217-15602218'\n",
    "#Added in new geen chr6:41515652-41515652"
   ]
  },
  {
   "cell_type": "code",
   "execution_count": null,
   "metadata": {},
   "outputs": [],
   "source": [
    "mt = hl.filter_intervals(mt, [hl.parse_locus_interval(x,) for x in test_intervals])"
   ]
  },
  {
   "cell_type": "code",
   "execution_count": null,
   "metadata": {},
   "outputs": [],
   "source": [
    "mt.count()"
   ]
  },
  {
   "cell_type": "code",
   "execution_count": null,
   "metadata": {},
   "outputs": [],
   "source": [
    "phenotype_filename = \"gs://fc-secure-467ef02a-b21a-4a58-8aed-51cf6ceafdca/data/long_covid_phenotypes.tsv\""
   ]
  },
  {
   "cell_type": "code",
   "execution_count": null,
   "metadata": {},
   "outputs": [],
   "source": [
    "phenotypes = (hl.import_table(phenotype_filename,\n",
    "                              types={'person_id':hl.tstr},\n",
    "                              impute=True,\n",
    "                              key='person_id'))"
   ]
  },
  {
   "cell_type": "code",
   "execution_count": null,
   "metadata": {},
   "outputs": [],
   "source": [
    "mt = hl.split_multi_hts(mt)\n",
    "mt.count()"
   ]
  },
  {
   "cell_type": "code",
   "execution_count": null,
   "metadata": {},
   "outputs": [],
   "source": [
    "phenotypes"
   ]
  },
  {
   "cell_type": "code",
   "execution_count": null,
   "metadata": {},
   "outputs": [],
   "source": [
    "phenotype_df = phenotypes.to_pandas()"
   ]
  },
  {
   "cell_type": "code",
   "execution_count": null,
   "metadata": {},
   "outputs": [],
   "source": [
    "phenotype_df.head()"
   ]
  },
  {
   "cell_type": "code",
   "execution_count": null,
   "metadata": {},
   "outputs": [],
   "source": [
    "mt = mt.semi_join_cols(phenotypes)\n",
    "mt.count()"
   ]
  },
  {
   "cell_type": "code",
   "execution_count": null,
   "metadata": {},
   "outputs": [],
   "source": [
    "out_path = f'{bucket}/data/test_plink'"
   ]
  },
  {
   "cell_type": "code",
   "execution_count": null,
   "metadata": {},
   "outputs": [],
   "source": [
    "hl.export_plink(mt, out_path, ind_id = mt.s)"
   ]
  },
  {
   "cell_type": "code",
   "execution_count": null,
   "metadata": {},
   "outputs": [],
   "source": [
    "!gsutil ls {bucket}/data"
   ]
  },
  {
   "cell_type": "code",
   "execution_count": null,
   "metadata": {},
   "outputs": [],
   "source": [
    "mt_rows =  mt.rows()"
   ]
  },
  {
   "cell_type": "code",
   "execution_count": null,
   "metadata": {},
   "outputs": [],
   "source": [
    "mt_rows_df = mt.rows().to_pandas()"
   ]
  },
  {
   "cell_type": "code",
   "execution_count": null,
   "metadata": {},
   "outputs": [],
   "source": [
    "!gsutil ls {bucket}/data"
   ]
  },
  {
   "cell_type": "code",
   "execution_count": null,
   "metadata": {},
   "outputs": [],
   "source": [
    "array_plink_path = f'long-covid/plink'\n",
    "array_plink_path"
   ]
  },
  {
   "cell_type": "code",
   "execution_count": null,
   "metadata": {},
   "outputs": [],
   "source": [
    "genomic_location = os.getenv(\"CDR_STORAGE_PATH\")\n",
    "genomic_location"
   ]
  },
  {
   "cell_type": "code",
   "execution_count": null,
   "metadata": {},
   "outputs": [],
   "source": [
    "!gsutil -u $GOOGLE_PROJECT ls gs://fc-secure-467ef02a-b21a-4a58-8aed-51cf6ceafdca/data/"
   ]
  },
  {
   "cell_type": "code",
   "execution_count": null,
   "metadata": {},
   "outputs": [],
   "source": [
    "!gsutil -u $GOOGLE_PROJECT ls gs://fc-secure-467ef02a-b21a-4a58-8aed-51cf6ceafdca/data/"
   ]
  },
  {
   "cell_type": "code",
   "execution_count": null,
   "metadata": {},
   "outputs": [],
   "source": [
    "!plink --bfile gs://fc-secure-467ef02a-b21a-4a58-8aed-51cf6ceafdca/data/test_plink --freq --out test_plink"
   ]
  },
  {
   "cell_type": "code",
   "execution_count": null,
   "metadata": {},
   "outputs": [],
   "source": [
    "!plink --bfile {bucket}/data/test_plink --freq --out test_plink"
   ]
  },
  {
   "cell_type": "code",
   "execution_count": null,
   "metadata": {},
   "outputs": [],
   "source": [
    "!plink --bfile gs://fc-secure-467ef02a-b21a-4a58-8aed-51cf6ceafdca/data/test_plink --freq --out test_plink"
   ]
  },
  {
   "cell_type": "code",
   "execution_count": null,
   "metadata": {},
   "outputs": [],
   "source": [
    "from datetime import datetime\n",
    "import os \n",
    "import pandas as pd"
   ]
  },
  {
   "cell_type": "code",
   "execution_count": null,
   "metadata": {},
   "outputs": [],
   "source": [
    "start = datetime.now()\n",
    "bucket = os.getenv(\"WORKSPACE_BUCKET\")\n",
    "bucket"
   ]
  },
  {
   "cell_type": "code",
   "execution_count": null,
   "metadata": {},
   "outputs": [],
   "source": [
    "genomic_location = os.getenv(\"CDR_STORAGE_PATH\")\n",
    "genomic_location"
   ]
  },
  {
   "cell_type": "code",
   "execution_count": null,
   "metadata": {},
   "outputs": [],
   "source": [
    "array_plink_path = 'gs://fc-secure-467ef02a-b21a-4a58-8aed-51cf6ceafdca/data/*'\n",
    "array_plink_path"
   ]
  },
  {
   "cell_type": "code",
   "execution_count": null,
   "metadata": {},
   "outputs": [],
   "source": [
    "!mkdir -p plink"
   ]
  },
  {
   "cell_type": "code",
   "execution_count": null,
   "metadata": {},
   "outputs": [],
   "source": [
    "!gsutil ls {bucket}/data"
   ]
  },
  {
   "cell_type": "code",
   "execution_count": null,
   "metadata": {},
   "outputs": [],
   "source": [
    "!gsutil -u $GOOGLE_PROJECT ls gs://fc-secure-467ef02a-b21a-4a58-8aed-51cf6ceafdca/data/test_plink.*"
   ]
  },
  {
   "cell_type": "code",
   "execution_count": null,
   "metadata": {},
   "outputs": [],
   "source": [
    "!gsutil -u $$GOOGLE_PROJECT cp -r $array_plink_path plink/"
   ]
  },
  {
   "cell_type": "code",
   "execution_count": null,
   "metadata": {},
   "outputs": [],
   "source": [
    "!ls plink/"
   ]
  },
  {
   "cell_type": "code",
   "execution_count": null,
   "metadata": {},
   "outputs": [],
   "source": [
    "!plink -bfile plink/test_plink --freq --out plink/demo"
   ]
  },
  {
   "cell_type": "code",
   "execution_count": null,
   "metadata": {},
   "outputs": [],
   "source": [
    "!head -n 10 plink/demo.frq"
   ]
  },
  {
   "cell_type": "code",
   "execution_count": null,
   "metadata": {},
   "outputs": [],
   "source": [
    "!plink --bfile plink/test_plink --recode A --out plink/test_plink_recode"
   ]
  },
  {
   "cell_type": "code",
   "execution_count": null,
   "metadata": {},
   "outputs": [],
   "source": [
    "!head -n 10 plink/test_plink_recode.raw"
   ]
  },
  {
   "cell_type": "code",
   "execution_count": null,
   "metadata": {},
   "outputs": [],
   "source": [
    "import csv\n",
    "\n",
    "#export your file.raw to tsv\n",
    "with open('plink/test_plink_recode.raw') as infile, open('test_plink_recode.tsv', 'w') as outfile:\n",
    "    lines = infile.readlines()\n",
    "    for line in lines:\n",
    "        outfile.write(line)"
   ]
  },
  {
   "cell_type": "code",
   "execution_count": null,
   "metadata": {},
   "outputs": [],
   "source": [
    "gen_df = pd.read_table('test_plink_recode.tsv')"
   ]
  },
  {
   "cell_type": "code",
   "execution_count": null,
   "metadata": {},
   "outputs": [],
   "source": [
    "gen_df"
   ]
  },
  {
   "cell_type": "code",
   "execution_count": null,
   "metadata": {},
   "outputs": [],
   "source": [
    "for col in gen_df.columns:\n",
    "    print(col)"
   ]
  },
  {
   "cell_type": "code",
   "execution_count": null,
   "metadata": {},
   "outputs": [],
   "source": [
    "import subprocess\n",
    "\n",
    "destination_filename = 'test_plink_recode.tsv'\n",
    "\n",
    "# get the bucket name\n",
    "my_bucket = os.getenv('WORKSPACE_BUCKET')\n",
    "\n",
    "# copy csv file to the bucket\n",
    "args = [\"gsutil\", \"cp\", f\"./{destination_filename}\", f\"{my_bucket}/data/\"]\n",
    "output = subprocess.run(args, capture_output=True)\n",
    "\n",
    "# print output from gsutil\n",
    "output.stderr\n"
   ]
  },
  {
   "cell_type": "code",
   "execution_count": null,
   "metadata": {},
   "outputs": [],
   "source": [
    "#Change the output given above into a single dataframe with split columns\n",
    "#This part was added by Chris 8/14/2023\n",
    "old_column = gen_df.columns[0]\n",
    "new_columns =  old_column.split()\n",
    "\n",
    "seperated_df = pd.DataFrame(columns = new_columns)\n",
    "seperated_df[new_columns]  = gen_df[gen_df.columns[0]].str.split(' ', expand= True)\n",
    "#seperated_df[seperated_df['chr6:41515652:G:C_C']== \"2\"]#.unique()\n",
    "#NA = 21, 0 = 4266, 1 = 639, 2 = 56"
   ]
  },
  {
   "cell_type": "code",
   "execution_count": null,
   "metadata": {},
   "outputs": [],
   "source": []
  },
  {
   "cell_type": "code",
   "execution_count": null,
   "metadata": {},
   "outputs": [],
   "source": [
    "seperated_df['person_id'] = seperated_df['IID']\n",
    "seperated_df = seperated_df.drop(['FID','IID','PAT','MAT','SEX','PHENOTYPE'], axis=1)\n",
    "seperated_df"
   ]
  },
  {
   "cell_type": "code",
   "execution_count": null,
   "metadata": {},
   "outputs": [],
   "source": [
    "# This snippet assumes you run setup first\n",
    "\n",
    "# This code saves your dataframe into a csv file in a \"data\" folder in Google Bucket\n",
    "\n",
    "# Replace df with THE NAME OF YOUR DATAFRAME\n",
    "my_dataframe = seperated_df  \n",
    "\n",
    "# Replace 'test.csv' with THE NAME of the file you're going to store in the bucket (don't delete the quotation marks)\n",
    "destination_filename = 'GeneticDataDfAugust14.csv'\n",
    "\n",
    "########################################################################\n",
    "##\n",
    "################# DON'T CHANGE FROM HERE ###############################\n",
    "##\n",
    "########################################################################\n",
    "\n",
    "# save dataframe in a csv file in the same workspace as the notebook\n",
    "my_dataframe.to_csv(destination_filename, index=False)\n",
    "\n",
    "# get the bucket name\n",
    "my_bucket = os.getenv('WORKSPACE_BUCKET')\n",
    "\n",
    "# copy csv file to the bucket\n",
    "args = [\"gsutil\", \"cp\", f\"./{destination_filename}\", f\"{my_bucket}/data/\"]\n",
    "output = subprocess.run(args, capture_output=True)\n",
    "\n",
    "# print output from gsutil\n",
    "output.stderr\n"
   ]
  },
  {
   "cell_type": "code",
   "execution_count": null,
   "metadata": {},
   "outputs": [],
   "source": [
    "import matplotlib.pyplot as plt\n",
    "import numpy as np\n",
    "x = np.array([4266, 695, 21])\n",
    "xlables = [\"No Expression\", 'Expression', 'No data']\n",
    "plt.pie(x, labels = xlables)\n",
    "plt.show()"
   ]
  },
  {
   "cell_type": "code",
   "execution_count": null,
   "metadata": {},
   "outputs": [],
   "source": [
    "x = np.array([0.5, 0.4, 0.1])\n",
    "xlables = [\"EHR Model\", 'Survey Data Model', 'Genetic Model']\n",
    "plt.title = \"Contribution to Overall Prediction\"\n",
    "plt.pie(x, labels = xlables)\n",
    "plt.show()"
   ]
  },
  {
   "cell_type": "code",
   "execution_count": null,
   "metadata": {},
   "outputs": [],
   "source": []
  }
 ],
 "metadata": {
  "kernelspec": {
   "display_name": "Python 3 (ipykernel)",
   "language": "python",
   "name": "python3"
  },
  "language_info": {
   "codemirror_mode": {
    "name": "ipython",
    "version": 3
   },
   "file_extension": ".py",
   "mimetype": "text/x-python",
   "name": "python",
   "nbconvert_exporter": "python",
   "pygments_lexer": "ipython3",
   "version": "3.9.12"
  },
  "toc": {
   "base_numbering": 1,
   "nav_menu": {},
   "number_sections": true,
   "sideBar": true,
   "skip_h1_title": false,
   "title_cell": "Table of Contents",
   "title_sidebar": "Contents",
   "toc_cell": false,
   "toc_position": {},
   "toc_section_display": true,
   "toc_window_display": false
  }
 },
 "nbformat": 4,
 "nbformat_minor": 2
}
