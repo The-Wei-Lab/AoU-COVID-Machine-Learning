{
 "cells": [
  {
   "cell_type": "code",
   "execution_count": null,
   "metadata": {},
   "outputs": [],
   "source": [
    "import pandas as pd\n",
    "import numpy as np\n",
    "import scipy\n",
    "import sklearn\n",
    "import matplotlib as mpl\n",
    "import os\n",
    "import sys\n",
    "import matplotlib.pyplot as plt\n",
    "import seaborn as sns\n",
    "import subprocess"
   ]
  },
  {
   "cell_type": "code",
   "execution_count": null,
   "metadata": {},
   "outputs": [],
   "source": [
    "bucket = os.getenv(\"WORKSPACE_BUCKET\")\n",
    "\n",
    "CDR = os.environ[\"WORKSPACE_CDR\"]"
   ]
  },
  {
   "cell_type": "code",
   "execution_count": null,
   "metadata": {},
   "outputs": [],
   "source": [
    "bucket"
   ]
  },
  {
   "cell_type": "code",
   "execution_count": null,
   "metadata": {},
   "outputs": [],
   "source": [
    "CDR"
   ]
  },
  {
   "cell_type": "markdown",
   "metadata": {},
   "source": [
    "Pull negative covid test cohort "
   ]
  },
  {
   "cell_type": "code",
   "execution_count": null,
   "metadata": {},
   "outputs": [],
   "source": [
    "negative_cohort_sql = f\"\"\"\n",
    "with Negative_Results as (\n",
    "select concept_id from `{CDR}`.concept\n",
    "where concept_id IN (45880296, 45878583, 45884153, 45884092, 45878245, 4305306)\n",
    "),\n",
    "COVID_Tests as (\n",
    "select concept_id from `{CDR}`.concept\n",
    "where concept_id IN (586520,586523,586525,586526,586529,706157,706159,715261,715272,723470,723472,757678,36032061,36032174,36032258,36661371,586518,586524,706154,706175,723464,723467,723478,36031453,586516,706158,706160,706163,706171,706172,715260,723469,36031213,36661377,586528,706161,706165,706167,723463,723468,723471,757677,36031238,36031944,586519,706166,706169,706173,723465,723476,757685,36031506,706155,706156,706170,723466,36031652,36661370,706168,706174,715262,723477,36032419,36661378,37310257)\n",
    "),\n",
    "COVID_Lab_Index as (\n",
    "SELECT m.person_id, min(m.measurement_date) as neg_test_idx\n",
    "FROM `{CDR}`.measurement m JOIN COVID_Tests p on m.measurement_concept_id = p.concept_id\n",
    "WHERE m.value_as_concept_id in (select distinct concept_id from Negative_Results)\n",
    "GROUP BY m.person_id\n",
    ")\n",
    "select * from COVID_Lab_Index\n",
    "\"\"\""
   ]
  },
  {
   "cell_type": "code",
   "execution_count": null,
   "metadata": {},
   "outputs": [],
   "source": [
    "negative_cohort_df = pd.read_gbq(negative_cohort_sql, dialect=\"standard\", use_bqstorage_api=(\"BIGQUERY_STORAGE_API_ENABLED\" in os.environ),  progress_bar_type=\"tqdm_notebook\")"
   ]
  },
  {
   "cell_type": "code",
   "execution_count": null,
   "metadata": {},
   "outputs": [],
   "source": [
    "negative_cohort_df"
   ]
  },
  {
   "cell_type": "code",
   "execution_count": null,
   "metadata": {},
   "outputs": [],
   "source": [
    "negative_cohort_df = negative_cohort_df[(~negative_cohort_df.person_id.isin(positive_aou_cohort.person_id))]"
   ]
  },
  {
   "cell_type": "code",
   "execution_count": null,
   "metadata": {},
   "outputs": [],
   "source": [
    "wearable_data_tables = ['activity_summary', 'heart_rate_minute_level', 'heart_rate_summary', 'steps_intraday', 'sleep_level', 'sleep_daily_summary']"
   ]
  },
  {
   "cell_type": "code",
   "execution_count": null,
   "metadata": {},
   "outputs": [],
   "source": [
    "wearable_data_cohort_sql = f\"\"\"\n",
    "with activity_summary_cohort as\n",
    "(select distinct person_id from `{CDR}`.activity_summary),\n",
    "hrml_cohort as\n",
    "(select distinct person_id from `{CDR}`.heart_rate_minute_level),\n",
    "hrs_cohort as\n",
    "(select distinct person_id from `{CDR}`.heart_rate_summary),\n",
    "steps_intraday_cohort as\n",
    "(select distinct person_id from `{CDR}`.steps_intraday),\n",
    "sleep_level_cohort as\n",
    "(select distinct person_id from `{CDR}`.sleep_level),\n",
    "sleep_daily_summary_cohort as\n",
    "(select distinct person_id from `{CDR}`.sleep_daily_summary)\n",
    "select person_id from activity_summary_cohort\n",
    "union distinct \n",
    "select person_id from hrml_cohort\n",
    "union distinct \n",
    "select person_id from hrs_cohort\n",
    "union distinct \n",
    "select person_id from steps_intraday_cohort\n",
    "union distinct \n",
    "select person_id from sleep_level_cohort\n",
    "union distinct\n",
    "select person_id from sleep_daily_summary_cohort\n",
    "\"\"\""
   ]
  },
  {
   "cell_type": "code",
   "execution_count": null,
   "metadata": {},
   "outputs": [],
   "source": [
    "wearable_data_cohort_df = pd.read_gbq(wearable_data_cohort_sql, dialect=\"standard\", use_bqstorage_api=(\"BIGQUERY_STORAGE_API_ENABLED\" in os.environ),  progress_bar_type=\"tqdm_notebook\")"
   ]
  },
  {
   "cell_type": "code",
   "execution_count": null,
   "metadata": {},
   "outputs": [],
   "source": [
    "wearable_data_cohort_df.shape"
   ]
  },
  {
   "cell_type": "code",
   "execution_count": null,
   "metadata": {},
   "outputs": [],
   "source": [
    "wearable_data_cohort_df"
   ]
  },
  {
   "cell_type": "code",
   "execution_count": null,
   "metadata": {},
   "outputs": [],
   "source": [
    "negative_covid_cohort_with_wearable_data = negative_cohort_df.merge(wearable_data_cohort_df, how = 'inner' ,indicator=False)"
   ]
  },
  {
   "cell_type": "code",
   "execution_count": null,
   "metadata": {},
   "outputs": [],
   "source": [
    "negative_covid_cohort_with_wearable_data.shape"
   ]
  },
  {
   "cell_type": "code",
   "execution_count": null,
   "metadata": {},
   "outputs": [],
   "source": [
    "people = tuple(negative_covid_cohort_with_wearable_data['person_id'])"
   ]
  },
  {
   "cell_type": "code",
   "execution_count": null,
   "metadata": {},
   "outputs": [],
   "source": [
    "steps_summary_sql = f\"\"\"select * from `{CDR}`.activity_summary where person_id in {people} \"\"\"\n",
    "steps_summary_df = pd.read_gbq(steps_summary_sql, dialect=\"standard\", use_bqstorage_api=(\"BIGQUERY_STORAGE_API_ENABLED\" in os.environ),  progress_bar_type=\"tqdm_notebook\")"
   ]
  },
  {
   "cell_type": "code",
   "execution_count": null,
   "metadata": {},
   "outputs": [],
   "source": [
    "steps_summary_df"
   ]
  },
  {
   "cell_type": "code",
   "execution_count": null,
   "metadata": {},
   "outputs": [],
   "source": [
    "steps_summary_df['date']= pd.to_datetime(steps_summary_df['date'])\n",
    "\n",
    "negative_covid_cohort_with_wearable_data['neg_test_idx'] = pd.to_datetime(negative_covid_cohort_with_wearable_data['neg_test_idx'])"
   ]
  },
  {
   "cell_type": "code",
   "execution_count": null,
   "metadata": {},
   "outputs": [],
   "source": [
    "from datetime import datetime\n",
    "from dateutil.relativedelta import relativedelta\n",
    "from statistics import median\n",
    "\n",
    "steps_stat = []\n",
    "\n",
    "for index, row in negative_covid_cohort_with_wearable_data.iterrows():\n",
    "    person_id = row['person_id']\n",
    "    min_covid_dt = row['neg_test_idx']\n",
    "    \n",
    "    min_covid_dt_minus_7 = min_covid_dt - relativedelta(days=7)\n",
    "    min_covid_dt_plus_28 = min_covid_dt + relativedelta(days=28)\n",
    "    \n",
    "    p_data = steps_summary_df[steps_summary_df['person_id'] == person_id]\n",
    "    \n",
    "    p_data['date']= pd.to_datetime(p_data['date'])\n",
    "    \n",
    "    \n",
    "    if not p_data.empty:\n",
    "        \n",
    "        prev_df = p_data[(p_data['date'] < min_covid_dt_minus_7)]\n",
    "        next_df = p_data[p_data['date'] > min_covid_dt_plus_28]\n",
    "        \n",
    "        prev_steps = list(prev_df['steps'])\n",
    "\n",
    "        prev_steps.sort()\n",
    "\n",
    "        next_steps = list(next_df['steps'])\n",
    "\n",
    "        next_steps.sort()\n",
    "\n",
    "        p_m = 0\n",
    "        n_m = 0\n",
    "\n",
    "        if len(prev_steps) > 0:\n",
    "            p_m = median(prev_steps)\n",
    "\n",
    "        if len(next_steps) > 0:\n",
    "            n_m = median(next_steps)\n",
    "\n",
    "\n",
    "        steps_stat.append([person_id, min_covid_dt, p_m, n_m])"
   ]
  },
  {
   "cell_type": "code",
   "execution_count": null,
   "metadata": {},
   "outputs": [],
   "source": [
    "steps_stat_df = pd.DataFrame(steps_stat, columns=['person_id', 'neg_covid_dt', 'before_neg_covid_test_median_steps', 'after_negative_covid_test_median_steps'])"
   ]
  },
  {
   "cell_type": "code",
   "execution_count": null,
   "metadata": {},
   "outputs": [],
   "source": [
    "steps_stat_df"
   ]
  },
  {
   "cell_type": "code",
   "execution_count": null,
   "metadata": {},
   "outputs": [],
   "source": [
    "destination_filename = 'negative_cohort_steps_median.csv'\n",
    "\n",
    "# save dataframe in a csv file in the same workspace as the notebook\n",
    "steps_stat_df.to_csv(destination_filename, index=False)\n",
    "\n",
    "# get the bucket name\n",
    "my_bucket = os.getenv('WORKSPACE_BUCKET')\n",
    "\n",
    "# copy csv file to the bucket\n",
    "args = [\"gsutil\", \"cp\", f\"./{destination_filename}\", f\"{my_bucket}/data/\"]\n",
    "output = subprocess.run(args, capture_output=True)\n",
    "\n",
    "# print output from gsutil\n",
    "output.stderr"
   ]
  },
  {
   "cell_type": "code",
   "execution_count": null,
   "metadata": {},
   "outputs": [],
   "source": [
    "hrml_sql = f\"\"\"select person_id, date(datetime) as date, avg(heart_rate_value) as average_heart_rate from `{CDR}`.heart_rate_minute_level where person_id in {people} group by 1,2\"\"\"\n",
    "hrml_df = pd.read_gbq(hrml_sql, dialect=\"standard\", use_bqstorage_api=(\"BIGQUERY_STORAGE_API_ENABLED\" in os.environ),  progress_bar_type=\"tqdm_notebook\")"
   ]
  },
  {
   "cell_type": "code",
   "execution_count": null,
   "metadata": {},
   "outputs": [],
   "source": [
    "from datetime import datetime\n",
    "from dateutil.relativedelta import relativedelta\n",
    "from statistics import median\n",
    "\n",
    "heart_rate_minute_level_stat = []\n",
    "\n",
    "for index, row in negative_covid_cohort_with_wearable_data.iterrows():\n",
    "    person_id = row['person_id']\n",
    "    min_covid_dt = row['neg_test_idx']\n",
    "      \n",
    "    min_covid_dt_minus_7 = min_covid_dt - relativedelta(days=7)\n",
    "    min_covid_dt_plus_28 = min_covid_dt + relativedelta(days=28)\n",
    "    \n",
    "    p_data = hrml_df[hrml_df['person_id'] == person_id]\n",
    "    \n",
    "    p_data['date']= pd.to_datetime(p_data['date'])\n",
    "    \n",
    "    \n",
    "    if not p_data.empty:\n",
    "        \n",
    "        prev_df = p_data[p_data['date'] < min_covid_dt_minus_7]\n",
    "        next_df = p_data[p_data['date'] > min_covid_dt_plus_28]\n",
    "        prev_hr = list(prev_df['average_heart_rate'])\n",
    "\n",
    "        prev_hr.sort()\n",
    "\n",
    "        next_hr = list(next_df['average_heart_rate'])\n",
    "\n",
    "        next_hr.sort()\n",
    "\n",
    "        p_m = 0\n",
    "        n_m = 0\n",
    "\n",
    "        if len(prev_hr) > 0:\n",
    "            p_m = median(prev_hr)\n",
    "\n",
    "        if len(next_hr) > 0:\n",
    "            n_m = median(next_hr)\n",
    "\n",
    "\n",
    "        heart_rate_minute_level_stat.append([person_id, min_covid_dt, p_m, n_m])"
   ]
  },
  {
   "cell_type": "code",
   "execution_count": null,
   "metadata": {},
   "outputs": [],
   "source": [
    "heart_rate_minute_level_df = pd.DataFrame(heart_rate_minute_level_stat, columns=['person_id', 'neg_covid_dt', 'before_neg_covid_avg_heart_rate', 'after_neg_covid_avg_heart_rate'])"
   ]
  },
  {
   "cell_type": "code",
   "execution_count": null,
   "metadata": {},
   "outputs": [],
   "source": [
    "destination_filename = 'negative_cohort_avg_heart_rate_median.csv'\n",
    "\n",
    "# save dataframe in a csv file in the same workspace as the notebook\n",
    "heart_rate_minute_level_df.to_csv(destination_filename, index=False)\n",
    "\n",
    "# get the bucket name\n",
    "my_bucket = os.getenv('WORKSPACE_BUCKET')\n",
    "\n",
    "# copy csv file to the bucket\n",
    "args = [\"gsutil\", \"cp\", f\"./{destination_filename}\", f\"{my_bucket}/data/\"]\n",
    "output = subprocess.run(args, capture_output=True)\n",
    "\n",
    "# print output from gsutil\n",
    "output.stderr\n",
    "\n",
    "\n",
    "#heart_rate_minute_level_df.to_csv('avg_heart_rate_median.csv', index=False)"
   ]
  },
  {
   "cell_type": "code",
   "execution_count": null,
   "metadata": {},
   "outputs": [],
   "source": [
    "hr_summary_sql = f\"\"\"select * from `{CDR}`.heart_rate_summary where person_id in {people} \"\"\"\n",
    "hr_summary_df = pd.read_gbq(hr_summary_sql, dialect=\"standard\", use_bqstorage_api=(\"BIGQUERY_STORAGE_API_ENABLED\" in os.environ),  progress_bar_type=\"tqdm_notebook\")"
   ]
  },
  {
   "cell_type": "code",
   "execution_count": null,
   "metadata": {},
   "outputs": [],
   "source": [
    "from datetime import datetime\n",
    "from dateutil.relativedelta import relativedelta\n",
    "from statistics import median\n",
    "\n",
    "heart_rate_min_max_stat = []\n",
    "\n",
    "for index, row in negative_covid_cohort_with_wearable_data.iterrows():\n",
    "    person_id = row['person_id']\n",
    "    min_covid_dt = row['neg_test_idx']\n",
    "     \n",
    "    min_covid_dt_minus_7 = min_covid_dt - relativedelta(days=7)\n",
    "    min_covid_dt_plus_28 = min_covid_dt + relativedelta(days=28)\n",
    "    \n",
    "    p_data = hr_summary_df[hr_summary_df['person_id'] == person_id]\n",
    "    \n",
    "    p_data['date']= pd.to_datetime(p_data['date'])\n",
    "    \n",
    "    \n",
    "    if not p_data.empty:\n",
    "        \n",
    "        prev_df = p_data[p_data['date'] < min_covid_dt_minus_7]\n",
    "        next_df = p_data[p_data['date'] > min_covid_dt_plus_28 ]\n",
    "        \n",
    "        prev_min_hr = list(prev_df['min_heart_rate'])\n",
    "        prev_max_hr = list(prev_df['max_heart_rate'])\n",
    "\n",
    "        prev_min_hr.sort()\n",
    "        prev_max_hr.sort()\n",
    "\n",
    "        next_min_hr = list(next_df['min_heart_rate'])\n",
    "        next_max_hr = list(next_df['max_heart_rate'])\n",
    "\n",
    "        next_min_hr.sort()\n",
    "        next_max_hr.sort()\n",
    "\n",
    "        p_min_m = 0\n",
    "        p_max_m = 0\n",
    "        \n",
    "        n_min_m = 0\n",
    "        n_max_m = 0\n",
    "\n",
    "        if len(prev_min_hr) > 0:\n",
    "            p_min_m = median(prev_min_hr)\n",
    "            \n",
    "        if len(prev_max_hr) > 0:\n",
    "            p_max_m = median(prev_max_hr)\n",
    "\n",
    "        if len(next_min_hr) > 0:\n",
    "            n_min_m = median(next_min_hr)\n",
    "            \n",
    "        if len(next_max_hr) > 0:\n",
    "            n_max_m = median(next_max_hr)    \n",
    "\n",
    "\n",
    "        heart_rate_min_max_stat.append([person_id, min_covid_dt, p_min_m, p_max_m, n_min_m, n_max_m])"
   ]
  },
  {
   "cell_type": "code",
   "execution_count": null,
   "metadata": {},
   "outputs": [],
   "source": [
    "heart_rate_min_max_df = pd.DataFrame(heart_rate_min_max_stat, columns=['person_id', 'neg_covid_dt', 'before_neg_covid_min_heart_rate', 'before_neg_covid_max_heart_rate', 'after_neg_covid_min_heart_rate', 'after_neg_covid_max_heart_rate'])"
   ]
  },
  {
   "cell_type": "code",
   "execution_count": null,
   "metadata": {},
   "outputs": [],
   "source": [
    "destination_filename = 'negative_cohort_heart_rate_min_max_median.csv'\n",
    "\n",
    "# save dataframe in a csv file in the same workspace as the notebook\n",
    "heart_rate_min_max_df.to_csv(destination_filename, index=False)\n",
    "\n",
    "# get the bucket name\n",
    "my_bucket = os.getenv('WORKSPACE_BUCKET')\n",
    "\n",
    "# copy csv file to the bucket\n",
    "args = [\"gsutil\", \"cp\", f\"./{destination_filename}\", f\"{my_bucket}/data/\"]\n",
    "output = subprocess.run(args, capture_output=True)\n",
    "\n",
    "\n",
    "#heart_rate_min_max_df.to_csv('heart_rate_min_max_median.csv', index=False)"
   ]
  },
  {
   "cell_type": "code",
   "execution_count": null,
   "metadata": {},
   "outputs": [],
   "source": [
    "sleep_summary_sql = f\"\"\"select * from `{CDR}`.sleep_daily_summary where person_id in {people} \"\"\"\n",
    "sleep_summary_df = pd.read_gbq(sleep_summary_sql, dialect=\"standard\", use_bqstorage_api=(\"BIGQUERY_STORAGE_API_ENABLED\" in os.environ),  progress_bar_type=\"tqdm_notebook\")"
   ]
  },
  {
   "cell_type": "code",
   "execution_count": null,
   "metadata": {},
   "outputs": [],
   "source": [
    "from datetime import datetime\n",
    "from dateutil.relativedelta import relativedelta\n",
    "from statistics import median\n",
    "\n",
    "sleep_summary_stat = []\n",
    "\n",
    "for index, row in negative_covid_cohort_with_wearable_data.iterrows():\n",
    "    person_id = row['person_id']\n",
    "    min_covid_dt = row['neg_test_idx']\n",
    "    \n",
    "    min_covid_dt_minus_7 = min_covid_dt - relativedelta(days=7)\n",
    "    min_covid_dt_plus_28 = min_covid_dt + relativedelta(days=28)\n",
    "    \n",
    "    p_data = sleep_summary_df[sleep_summary_df['person_id'] == person_id]\n",
    "    \n",
    "    p_data['sleep_date']= pd.to_datetime(p_data['sleep_date'])\n",
    "    \n",
    "    \n",
    "    if not p_data.empty:\n",
    "        \n",
    "        prev_df = p_data[p_data['sleep_date'] < min_covid_dt_minus_7]\n",
    "        next_df = p_data[p_data['sleep_date'] > min_covid_dt_plus_28]\n",
    "        \n",
    "        prev_hr = list(prev_df['minute_asleep'])\n",
    "\n",
    "        prev_hr.sort()\n",
    "\n",
    "        next_hr = list(next_df['minute_asleep'])\n",
    "\n",
    "        next_hr.sort()\n",
    "\n",
    "        p_m = 0\n",
    "        n_m = 0\n",
    "\n",
    "        if len(prev_hr) > 0:\n",
    "            p_m = median(prev_hr)\n",
    "\n",
    "        if len(next_hr) > 0:\n",
    "            n_m = median(next_hr)\n",
    "\n",
    "\n",
    "        sleep_summary_stat.append([person_id, min_covid_dt, p_m, n_m])"
   ]
  },
  {
   "cell_type": "code",
   "execution_count": null,
   "metadata": {},
   "outputs": [],
   "source": [
    "sleep_summary_stat_df = pd.DataFrame(sleep_summary_stat, columns=['person_id', 'neg_covid_dt', 'before_neg_covid_median_minutes_asleep', 'after_neg_covid_median_minutes_asleep'])"
   ]
  },
  {
   "cell_type": "code",
   "execution_count": null,
   "metadata": {},
   "outputs": [],
   "source": [
    "destination_filename = 'negative_cohort_sleep_summary_stat_df.csv'\n",
    "\n",
    "# save dataframe in a csv file in the same workspace as the notebook\n",
    "sleep_summary_stat_df.to_csv(destination_filename, index=False)\n",
    "\n",
    "# get the bucket name\n",
    "my_bucket = os.getenv('WORKSPACE_BUCKET')\n",
    "\n",
    "# copy csv file to the bucket\n",
    "args = [\"gsutil\", \"cp\", f\"./{destination_filename}\", f\"{my_bucket}/data/\"]\n",
    "output = subprocess.run(args, capture_output=True)\n",
    "\n",
    "#sleep_summary_stat_df.to_csv('sleep_summary_stat_df.csv', index=False)"
   ]
  },
  {
   "cell_type": "code",
   "execution_count": null,
   "metadata": {},
   "outputs": [],
   "source": [
    "fitbit_wore_time_sql = f\"\"\"SELECT person_id, AVG(hours_with_fitbit) as average_weartime from\n",
    "(SELECT person_id, date, SUM(has_hour) AS hours_with_fitbit FROM (SELECT person_id, CAST(datetime AS DATE) AS date, \n",
    "IF(SUM(steps)>0, 1, 0) AS has_hour FROM `{CDR}`.steps_intraday where person_id in {people} GROUP BY CAST(datetime AS DATE), EXTRACT(HOUR FROM datetime), person_id) t GROUP BY date, person_id)\n",
    "GROUP BY person_id\"\"\"\n",
    "\n",
    "fitbit_wore_time_df = pd.read_gbq(fitbit_wore_time_sql, dialect=\"standard\", use_bqstorage_api=(\"BIGQUERY_STORAGE_API_ENABLED\" in os.environ),  progress_bar_type=\"tqdm_notebook\")"
   ]
  },
  {
   "cell_type": "code",
   "execution_count": null,
   "metadata": {},
   "outputs": [],
   "source": [
    "destination_filename = 'negative_cohort_fitbit_avg_weartime.csv'\n",
    "\n",
    "# save dataframe in a csv file in the same workspace as the notebook\n",
    "fitbit_wore_time_df.to_csv(destination_filename, index=False)\n",
    "\n",
    "# get the bucket name\n",
    "my_bucket = os.getenv('WORKSPACE_BUCKET')\n",
    "\n",
    "# copy csv file to the bucket\n",
    "args = [\"gsutil\", \"cp\", f\"./{destination_filename}\", f\"{my_bucket}/data/\"]\n",
    "output = subprocess.run(args, capture_output=True)\n",
    "\n",
    "#fitbit_wore_time_df.to_csv('fitbit_avg_weartime.csv', index=False)"
   ]
  },
  {
   "cell_type": "code",
   "execution_count": null,
   "metadata": {},
   "outputs": [],
   "source": [
    "# This snippet assumes you run setup first\n",
    "\n",
    "# This code copies file in your Google Bucket and loads it into a dataframe\n",
    "\n",
    "# Replace 'test.csv' with THE NAME of the file you're going to download from the bucket (don't delete the quotation marks)\n",
    "name_of_file_in_bucket = 'n3c_aou_cohort.csv'\n",
    "\n",
    "########################################################################\n",
    "##\n",
    "################# DON'T CHANGE FROM HERE ###############################\n",
    "##\n",
    "########################################################################\n",
    "\n",
    "# get the bucket name\n",
    "my_bucket = os.getenv('WORKSPACE_BUCKET')\n",
    "\n",
    "# copy csv file from the bucket to the current working space\n",
    "os.system(f\"gsutil cp '{my_bucket}/data/{name_of_file_in_bucket}' .\")\n",
    "\n",
    "print(f'[INFO] {name_of_file_in_bucket} is successfully downloaded into your working space')\n",
    "# save dataframe in a csv file in the same workspace as the notebook\n",
    "positive_aou_cohort = pd.read_csv(name_of_file_in_bucket)\n",
    "positive_aou_cohort.head()\n"
   ]
  },
  {
   "cell_type": "code",
   "execution_count": null,
   "metadata": {},
   "outputs": [],
   "source": [
    "# This snippet assumes that you run setup first\n",
    "\n",
    "# This code lists objects in your Google Bucket\n",
    "\n",
    "# Get the bucket name\n",
    "my_bucket = os.getenv('WORKSPACE_BUCKET')\n",
    "\n",
    "# List objects in the bucket\n",
    "print(subprocess.check_output(f\"gsutil ls -r {my_bucket}\", shell=True).decode('utf-8'))\n",
    "\n",
    "\n"
   ]
  },
  {
   "cell_type": "markdown",
   "metadata": {},
   "source": [
    "No COVID Test Cohort"
   ]
  },
  {
   "cell_type": "code",
   "execution_count": null,
   "metadata": {},
   "outputs": [],
   "source": [
    "no_covid_cohort_sql = f\"\"\"\n",
    "with COVID_Tests as (\n",
    "select concept_id from `{CDR}`.concept\n",
    "where concept_id IN (586520,586523,586525,586526,586529,706157,706159,715261,715272,723470,723472,757678,36032061,36032174,36032258,36661371,586518,586524,706154,706175,723464,723467,723478,36031453,586516,706158,706160,706163,706171,706172,715260,723469,36031213,36661377,586528,706161,706165,706167,723463,723468,723471,757677,36031238,36031944,586519,706166,706169,706173,723465,723476,757685,36031506,706155,706156,706170,723466,36031652,36661370,706168,706174,715262,723477,36032419,36661378,37310257)\n",
    "),\n",
    "u07_any as (\n",
    "SELECT co.person_id\n",
    "FROM `{CDR}`.condition_occurrence co \n",
    "WHERE co.condition_concept_id not in 37311061 \n",
    "GROUP BY co.person_id\n",
    "),\n",
    "COVID_Lab_Index as (\n",
    "SELECT m.person_id\n",
    "FROM `{CDR}`.measurement m where m.measurement_concept_id not in (select distinct concept_id from COVID_Tests)\n",
    ")\n",
    "select * from COVID_Lab_Index\n",
    "\"\"\""
   ]
  }
 ],
 "metadata": {
  "kernelspec": {
   "display_name": "Python 3 (ipykernel)",
   "language": "python",
   "name": "python3"
  },
  "language_info": {
   "codemirror_mode": {
    "name": "ipython",
    "version": 3
   },
   "file_extension": ".py",
   "mimetype": "text/x-python",
   "name": "python",
   "nbconvert_exporter": "python",
   "pygments_lexer": "ipython3",
   "version": "3.9.12"
  },
  "toc": {
   "base_numbering": 1,
   "nav_menu": {},
   "number_sections": true,
   "sideBar": true,
   "skip_h1_title": false,
   "title_cell": "Table of Contents",
   "title_sidebar": "Contents",
   "toc_cell": false,
   "toc_position": {},
   "toc_section_display": true,
   "toc_window_display": false
  }
 },
 "nbformat": 4,
 "nbformat_minor": 2
}
