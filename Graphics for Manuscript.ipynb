{
 "cells": [
  {
   "cell_type": "markdown",
   "metadata": {},
   "source": [
    "# Make a venn diagram from the nVennR package on Github"
   ]
  },
  {
   "cell_type": "markdown",
   "metadata": {},
   "source": [
    "## Load in individual dataframes of different person types"
   ]
  },
  {
   "cell_type": "code",
   "execution_count": null,
   "metadata": {},
   "outputs": [],
   "source": [
    "library(tidyverse)  # Data wrangling packages.\n",
    "\n"
   ]
  },
  {
   "cell_type": "code",
   "execution_count": null,
   "metadata": {},
   "outputs": [],
   "source": [
    "# This snippet assumes that you run setup first\n",
    "\n",
    "# This code copies a file from your Google Bucket into a dataframe\n",
    "\n",
    "# replace 'test.csv' with the name of the file in your google bucket (don't delete the quotation marks)\n",
    "name_of_file_in_bucket <- 'MobileDevicePersons.csv'\n",
    "\n",
    "########################################################################\n",
    "##\n",
    "################# DON'T CHANGE FROM HERE ###############################\n",
    "##\n",
    "########################################################################\n",
    "\n",
    "# Get the bucket name\n",
    "my_bucket <- Sys.getenv('WORKSPACE_BUCKET')\n",
    "\n",
    "# Copy the file from current workspace to the bucket\n",
    "system(paste0(\"gsutil cp \", my_bucket, \"/data/\", name_of_file_in_bucket, \" .\"), intern=T)\n",
    "\n",
    "# Load the file into a dataframe\n",
    "MobileDevicePersons  <- read_csv(name_of_file_in_bucket)\n",
    "head(MobileDevicePersons)\n"
   ]
  },
  {
   "cell_type": "code",
   "execution_count": null,
   "metadata": {},
   "outputs": [],
   "source": [
    "# This snippet assumes that you run setup first\n",
    "\n",
    "# This code copies a file from your Google Bucket into a dataframe\n",
    "\n",
    "# replace 'test.csv' with the name of the file in your google bucket (don't delete the quotation marks)\n",
    "name_of_file_in_bucket <- 'SurveyDataPersons.csv'\n",
    "\n",
    "########################################################################\n",
    "##\n",
    "################# DON'T CHANGE FROM HERE ###############################\n",
    "##\n",
    "########################################################################\n",
    "\n",
    "# Get the bucket name\n",
    "my_bucket <- Sys.getenv('WORKSPACE_BUCKET')\n",
    "\n",
    "# Copy the file from current workspace to the bucket\n",
    "system(paste0(\"gsutil cp \", my_bucket, \"/data/\", name_of_file_in_bucket, \" .\"), intern=T)\n",
    "\n",
    "# Load the file into a dataframe\n",
    "SurveyDataPersons  <- read_csv(name_of_file_in_bucket)\n",
    "head(SurveyDataPersons)\n"
   ]
  },
  {
   "cell_type": "code",
   "execution_count": null,
   "metadata": {},
   "outputs": [],
   "source": [
    "# This snippet assumes that you run setup first\n",
    "\n",
    "# This code copies a file from your Google Bucket into a dataframe\n",
    "\n",
    "# replace 'test.csv' with the name of the file in your google bucket (don't delete the quotation marks)\n",
    "name_of_file_in_bucket <- 'GeneticDataPersons'\n",
    "\n",
    "########################################################################\n",
    "##\n",
    "################# DON'T CHANGE FROM HERE ###############################\n",
    "##\n",
    "########################################################################\n",
    "\n",
    "# Get the bucket name\n",
    "my_bucket <- Sys.getenv('WORKSPACE_BUCKET')\n",
    "\n",
    "# Copy the file from current workspace to the bucket\n",
    "system(paste0(\"gsutil cp \", my_bucket, \"/data/\", name_of_file_in_bucket, \" .\"), intern=T)\n",
    "\n",
    "# Load the file into a dataframe\n",
    "GeneticDataPersons  <- read_csv(name_of_file_in_bucket)\n",
    "head(GeneticDataPersons)\n"
   ]
  },
  {
   "cell_type": "code",
   "execution_count": null,
   "metadata": {},
   "outputs": [],
   "source": [
    "#n3c_aou_cohort_ft_May_23.csv\n",
    "# This snippet assumes that you run setup first\n",
    "\n",
    "# This code copies a file from your Google Bucket into a dataframe\n",
    "\n",
    "# replace 'test.csv' with the name of the file in your google bucket (don't delete the quotation marks)\n",
    "name_of_file_in_bucket <- 'n3c_aou_cohort_ft_May_23.csv'\n",
    "\n",
    "########################################################################\n",
    "##\n",
    "################# DON'T CHANGE FROM HERE ###############################\n",
    "##\n",
    "########################################################################\n",
    "\n",
    "# Get the bucket name\n",
    "my_bucket <- Sys.getenv('WORKSPACE_BUCKET')\n",
    "\n",
    "# Copy the file from current workspace to the bucket\n",
    "system(paste0(\"gsutil cp \", my_bucket, \"/data/\", name_of_file_in_bucket, \" .\"), intern=T)\n",
    "\n",
    "# Load the file into a dataframe\n",
    "n3c_cohort <- read_csv(name_of_file_in_bucket)\n",
    "head(n3c_cohort)"
   ]
  },
  {
   "cell_type": "markdown",
   "metadata": {},
   "source": [
    "## Install Packages and set-up dev tools"
   ]
  },
  {
   "cell_type": "code",
   "execution_count": null,
   "metadata": {},
   "outputs": [],
   "source": [
    "install.packages(\"githubinstall\")"
   ]
  },
  {
   "cell_type": "code",
   "execution_count": null,
   "metadata": {},
   "outputs": [],
   "source": [
    "library(githubinstall)\n",
    "install.packages(\"devtools\")\n",
    "devtools::install_github(\"vqf/nVennR\")"
   ]
  },
  {
   "cell_type": "code",
   "execution_count": null,
   "metadata": {},
   "outputs": [],
   "source": [
    "library(nVennR)\n",
    "v1 = list(MobileDevicePersons)\n",
    "v2 = list(SurveyDataPersons)\n",
    "v3 = list(GeneticDataPersons)\n",
    "v4 = c(v1,v2,v3)\n",
    "\n",
    "myV <- plotVenn(list(Mobile_Device_Data= v1, Survey_Data = v2, Genetic_Data = v3\n",
    "                     #, EHR_Data = v4\n",
    "                    ),\n",
    "                nCycles = 100000, systemShow = TRUE, opacity = 0.1, labelRegions = F\n",
    "                , outFile = \"VennDiagram.svg\"\n",
    "               )"
   ]
  },
  {
   "cell_type": "code",
   "execution_count": null,
   "metadata": {},
   "outputs": [],
   "source": [
    "#showSVG(myV)"
   ]
  },
  {
   "cell_type": "markdown",
   "metadata": {},
   "source": [
    "### create function to filter each dataframe to just the people in the n3c cohort"
   ]
  },
  {
   "cell_type": "code",
   "execution_count": null,
   "metadata": {},
   "outputs": [],
   "source": [
    "filter_n3c_cohort_list <-function(dataframe_list, filter_dataframe){\n",
    "    \n",
    "    filtered_df_list <- list()\n",
    "    i = 1\n",
    "    \n",
    "    while (i <= length(dataframe_list)){\n",
    "        \n",
    "        this_df = data.frame(dataframe_list[i])\n",
    "        filtered_df <- filter(this_df, person_id %in% filter_dataframe$person_id)\n",
    "        \n",
    "        filtered_df_list[[i]] <- filtered_df \n",
    "        \n",
    "        \n",
    "        i <- i + 1\n",
    "    }\n",
    "    \n",
    "    return(filtered_df_list) ;\n",
    "}"
   ]
  },
  {
   "cell_type": "code",
   "execution_count": null,
   "metadata": {},
   "outputs": [],
   "source": [
    "results <- filter_n3c_cohort_list(c(MobileDevicePersons, SurveyDataPersons,GeneticDataPersons), n3c_cohort)"
   ]
  },
  {
   "cell_type": "code",
   "execution_count": null,
   "metadata": {},
   "outputs": [],
   "source": [
    "#library(nVennR)\n",
    "v1 = list(results[1])\n",
    "v2 = list(results[2])\n",
    "v3 = list(results[3])\n",
    "v4 = c(v1,v2,v3)\n",
    "\n",
    "myV <- plotVenn(list(Mobile_Device_Data= v1, Survey_Data = v2, Genetic_Data = v3\n",
    "                     #, EHR_Data = v4\n",
    "                    ),\n",
    "                nCycles = 100000, systemShow = TRUE, opacity = 0.1, labelRegions = F\n",
    "                , outFile = \"VennDiagramN3C.svg\"\n",
    "               )"
   ]
  },
  {
   "cell_type": "code",
   "execution_count": null,
   "metadata": {},
   "outputs": [],
   "source": []
  }
 ],
 "metadata": {
  "kernelspec": {
   "display_name": "R",
   "language": "R",
   "name": "ir"
  },
  "language_info": {
   "codemirror_mode": "r",
   "file_extension": ".r",
   "mimetype": "text/x-r-source",
   "name": "R",
   "pygments_lexer": "r",
   "version": "4.3.1"
  },
  "toc": {
   "base_numbering": 1,
   "nav_menu": {},
   "number_sections": true,
   "sideBar": true,
   "skip_h1_title": false,
   "title_cell": "Table of Contents",
   "title_sidebar": "Contents",
   "toc_cell": false,
   "toc_position": {},
   "toc_section_display": true,
   "toc_window_display": false
  }
 },
 "nbformat": 4,
 "nbformat_minor": 2
}
